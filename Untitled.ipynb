{
 "cells": [
  {
   "cell_type": "code",
   "execution_count": 34,
   "id": "124e2568",
   "metadata": {},
   "outputs": [],
   "source": [
    "import numpy as np\n",
    "import matplotlib.pyplot as plt\n",
    "import pandas as pd\n",
    "import pandas_datareader as web\n",
    "import datetime as dt\n",
    "\n",
    "from sklearn.preprocessing import MinMaxScaler\n",
    "from tensorflow.keras.models import Sequential\n",
    "from tensorflow.keras.layers import Dense, Dropout, LSTM\n"
   ]
  },
  {
   "cell_type": "code",
   "execution_count": 78,
   "id": "2d2393f9",
   "metadata": {},
   "outputs": [],
   "source": [
    "#Load Data\n",
    "ticks = [\"DPZ\", \"AAPL\", \"GOOG\", \"AMD\", \"GME\", \"SPY\", \"NFLX\", \"BA\", \"WMT\",\"TWTR\",\"GS\",\"XOM\",\"NKE\",\"FEYE\", \"FB\",\"BRK-B\", \"MSFT\"]\n",
    "\n",
    "company='AAPL'\n",
    "start = dt.datetime(2012,1,1)\n",
    "end = dt.datetime(2020,1,1)\n",
    "data= web.DataReader(company, 'yahoo', start,end)\n"
   ]
  },
  {
   "cell_type": "code",
   "execution_count": 79,
   "id": "f8080675",
   "metadata": {},
   "outputs": [],
   "source": [
    "#Prepare Data\n",
    "scaler=MinMaxScaler(feature_range=(0,1))\n",
    "scaled_data=scaler.fit_transform(data['Close'].values.reshape(-1,1))\n",
    "prediction_days=60\n",
    "x_train=[]\n",
    "y_train=[]\n",
    "for x in range(prediction_days,len(scaled_data)):\n",
    "    x_train.append(scaled_data[x-prediction_days:x,0])\n",
    "    y_train.append(scaled_data[x,0])\n",
    "    \n",
    "x_train, y_train=np.array(x_train), np.array(y_train)\n",
    "x_train=np.reshape(x_train, (x_train.shape[0],x_train.shape[1],1))"
   ]
  },
  {
   "cell_type": "code",
   "execution_count": 80,
   "id": "55ecd574",
   "metadata": {},
   "outputs": [
    {
     "name": "stdout",
     "output_type": "stream",
     "text": [
      "Epoch 1/25\n",
      "61/61 [==============================] - 10s 54ms/step - loss: 0.0103\n",
      "Epoch 2/25\n",
      "61/61 [==============================] - 3s 53ms/step - loss: 0.0022\n",
      "Epoch 3/25\n",
      "61/61 [==============================] - 3s 53ms/step - loss: 0.0021\n",
      "Epoch 4/25\n",
      "61/61 [==============================] - 3s 53ms/step - loss: 0.0018\n",
      "Epoch 5/25\n",
      "61/61 [==============================] - 4s 62ms/step - loss: 0.0017\n",
      "Epoch 6/25\n",
      "61/61 [==============================] - 3s 54ms/step - loss: 0.0017: 0s - loss: 0\n",
      "Epoch 7/25\n",
      "61/61 [==============================] - 4s 58ms/step - loss: 0.0017\n",
      "Epoch 8/25\n",
      "61/61 [==============================] - 4s 62ms/step - loss: 0.0016\n",
      "Epoch 9/25\n",
      "61/61 [==============================] - 3s 53ms/step - loss: 0.0013\n",
      "Epoch 10/25\n",
      "61/61 [==============================] - 3s 53ms/step - loss: 0.0013\n",
      "Epoch 11/25\n",
      "61/61 [==============================] - 4s 58ms/step - loss: 0.0015\n",
      "Epoch 12/25\n",
      "61/61 [==============================] - 3s 55ms/step - loss: 0.0014\n",
      "Epoch 13/25\n",
      "61/61 [==============================] - 3s 50ms/step - loss: 0.0014\n",
      "Epoch 14/25\n",
      "61/61 [==============================] - 3s 51ms/step - loss: 0.0016\n",
      "Epoch 15/25\n",
      "61/61 [==============================] - 4s 63ms/step - loss: 0.0012\n",
      "Epoch 16/25\n",
      "61/61 [==============================] - 4s 60ms/step - loss: 0.0011\n",
      "Epoch 17/25\n",
      "61/61 [==============================] - 3s 48ms/step - loss: 0.0011\n",
      "Epoch 18/25\n",
      "61/61 [==============================] - 3s 49ms/step - loss: 0.0012\n",
      "Epoch 19/25\n",
      "61/61 [==============================] - 3s 47ms/step - loss: 0.0012\n",
      "Epoch 20/25\n",
      "61/61 [==============================] - 3s 48ms/step - loss: 0.0011\n",
      "Epoch 21/25\n",
      "61/61 [==============================] - 3s 52ms/step - loss: 0.0011\n",
      "Epoch 22/25\n",
      "61/61 [==============================] - 5s 75ms/step - loss: 0.0011\n",
      "Epoch 23/25\n",
      "61/61 [==============================] - 6s 97ms/step - loss: 0.0011\n",
      "Epoch 24/25\n",
      "61/61 [==============================] - 5s 85ms/step - loss: 9.5318e-04\n",
      "Epoch 25/25\n",
      "61/61 [==============================] - 5s 90ms/step - loss: 8.9827e-04\n"
     ]
    },
    {
     "data": {
      "text/plain": [
       "<keras.callbacks.History at 0x2bfc8af20a0>"
      ]
     },
     "execution_count": 80,
     "metadata": {},
     "output_type": "execute_result"
    }
   ],
   "source": [
    "#Build\n",
    "model=Sequential()\n",
    "model.add(LSTM(units=50, return_sequences=True, input_shape=(x_train.shape[1],1)))\n",
    "model.add(Dropout(0.2))\n",
    "model.add(LSTM(units=50, return_sequences=True))\n",
    "model.add(Dropout(0.2))\n",
    "model.add(LSTM(units=50))\n",
    "model.add(Dropout(0.2))\n",
    "model.add(Dense(units=1)) #Prediction\n",
    "\n",
    "model.compile(optimizer='adam', loss='mean_squared_error')\n",
    "model.fit(x_train, y_train, epochs=25, batch_size=32)\n",
    "\n",
    "          "
   ]
  },
  {
   "cell_type": "code",
   "execution_count": 81,
   "id": "c80fa1df",
   "metadata": {},
   "outputs": [],
   "source": [
    "#Test Model\n",
    "test_start=dt.datetime(2020,1,1)\n",
    "test_end=dt.datetime.now()\n",
    "test_data = web.DataReader(company, 'yahoo', test_start, test_end)\n",
    "actual_prices = test_data['Close'].values\n",
    "total_dataset=pd.concat((data['Close'], test_data['Close']))\n",
    "model_inputs=total_dataset[len(total_dataset)-len(test_data)-prediction_days:].values\n",
    "model_inputs=model_inputs.reshape(-1,1)\n",
    "model_inputs=scaler.transform(model_inputs)\n"
   ]
  },
  {
   "cell_type": "code",
   "execution_count": 82,
   "id": "a168129e",
   "metadata": {},
   "outputs": [],
   "source": [
    "#Make Predictions\n",
    "x_test=[]\n",
    "for x in range(prediction_days, len(model_inputs)):\n",
    "    x_test.append(model_inputs[x-prediction_days:x,0])\n",
    "    \n",
    "x_test=np.array(x_test)\n",
    "x_test=np.reshape(x_test, (x_test.shape[0], x_test.shape[1],1))\n",
    " \n",
    "predicted_prices= model.predict(x_test)\n",
    "predicted_prices= scaler.inverse_transform(predicted_prices)\n",
    "\n"
   ]
  },
  {
   "cell_type": "code",
   "execution_count": 83,
   "id": "92e3f781",
   "metadata": {
    "scrolled": false
   },
   "outputs": [
    {
     "data": {
      "image/png": "[encoded data removed]",
      "text/plain": [
       "<Figure size 432x288 with 1 Axes>"
      ]
     },
     "metadata": {
      "needs_background": "light"
     },
     "output_type": "display_data"
    }
   ],
   "source": [
    "#Plot\n",
    "plt.plot(actual_prices, color=\"black\", label=f\"Actual {company} Price\")\n",
    "plt.plot(predicted_prices, color=\"green\", label=f\"Predicted {company} Price\")\n",
    "plt.title(\"Share Price\")\n",
    "plt.xlabel('Time')\n",
    "plt.ylabel(\"Share Price\")\n",
    "plt.legend()\n",
    "plt.show()\n"
   ]
  },
  {
   "cell_type": "code",
   "execution_count": 84,
   "id": "2a19ef3b",
   "metadata": {
    "scrolled": true
   },
   "outputs": [
    {
     "name": "stdout",
     "output_type": "stream",
     "text": [
      "463\n"
     ]
    }
   ],
   "source": [
    "print(len(actual_prices))\n"
   ]
  },
  {
   "cell_type": "code",
   "execution_count": 85,
   "id": "5ae23eb0",
   "metadata": {},
   "outputs": [
    {
     "name": "stdout",
     "output_type": "stream",
     "text": [
      "[70.83787]\n"
     ]
    }
   ],
   "source": [
    "print(predicted_prices[0])\n"
   ]
  },
  {
   "cell_type": "code",
   "execution_count": 86,
   "id": "cf7e03aa",
   "metadata": {},
   "outputs": [
    {
     "name": "stdout",
     "output_type": "stream",
     "text": [
      "[17, 21, 35, 46, 48, 51, 65, 76, 141, 144, 173]\n",
      "[18, 23, 41, 47, 50, 57, 66, 79, 143, 145, 177]\n"
     ]
    }
   ],
   "source": [
    "buy=[]\n",
    "sell=[]\n",
    "\n",
    "for i in range (1, len(actual_prices)-1):\n",
    "    if predicted_prices[i]-actual_prices[i]>0 and predicted_prices[i-1]-actual_prices[i-1]<=0:\n",
    "        buy.append(i)\n",
    "    if predicted_prices[i]-actual_prices[i]<0 and predicted_prices[i-1]-actual_prices[i-1]>=0:\n",
    "        sell.append(i)\n",
    "        \n",
    "print(buy)\n",
    "print(sell)"
   ]
  },
  {
   "cell_type": "code",
   "execution_count": 87,
   "id": "378f4284",
   "metadata": {},
   "outputs": [
    {
     "ename": "SyntaxError",
     "evalue": "unexpected EOF while parsing (<ipython-input-87-f78d0636060a>, line 3)",
     "output_type": "error",
     "traceback": [
      "\u001b[1;36m  File \u001b[1;32m\"<ipython-input-87-f78d0636060a>\"\u001b[1;36m, line \u001b[1;32m3\u001b[0m\n\u001b[1;33m    \u001b[0m\n\u001b[1;37m    ^\u001b[0m\n\u001b[1;31mSyntaxError\u001b[0m\u001b[1;31m:\u001b[0m unexpected EOF while parsing\n"
     ]
    }
   ],
   "source": []
  },
  {
   "cell_type": "code",
   "execution_count": 77,
   "id": "902c1171",
   "metadata": {},
   "outputs": [
    {
     "name": "stdout",
     "output_type": "stream",
     "text": [
      "False\n"
     ]
    }
   ],
   "source": []
  },
  {
   "cell_type": "code",
   "execution_count": null,
   "id": "62965dce",
   "metadata": {},
   "outputs": [],
   "source": []
  }
 ],
 "metadata": {
  "kernelspec": {
   "display_name": "Python 3",
   "language": "python",
   "name": "python3"
  },
  "language_info": {
   "codemirror_mode": {
    "name": "ipython",
    "version": 3
   },
   "file_extension": ".py",
   "mimetype": "text/x-python",
   "name": "python",
   "nbconvert_exporter": "python",
   "pygments_lexer": "ipython3",
   "version": "3.8.8"
  }
 },
 "nbformat": 4,
 "nbformat_minor": 5
}
